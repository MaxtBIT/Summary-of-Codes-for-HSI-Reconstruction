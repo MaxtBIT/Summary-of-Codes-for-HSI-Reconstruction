{
 "cells": [
  {
   "cell_type": "code",
   "execution_count": 1,
   "metadata": {},
   "outputs": [],
   "source": [
    "import os\n",
    "import time\n",
    "import math\n",
    "import numpy as np\n",
    "from numpy import *\n",
    "import scipy.io as sio\n",
    "from statistics import mean\n",
    "from PnP_DIP import *\n",
    "from utils import *\n",
    "os.environ[\"CUDA_VISIBLE_DEVICES\"] = \"5\""
   ]
  },
  {
   "cell_type": "code",
   "execution_count": 2,
   "metadata": {},
   "outputs": [
    {
     "name": "stdout",
     "output_type": "stream",
     "text": [
      "DIP iter 100, x_loss:0.00956, y_loss:0.00789, PSNR:22.84\n",
      "DIP iter 200, x_loss:0.00713, y_loss:0.00275, PSNR:25.29\n",
      "DIP iter 300, x_loss:0.00678, y_loss:0.00219, PSNR:25.56\n",
      "DIP iter 400, x_loss:0.00592, y_loss:0.00148, PSNR:25.00\n",
      "DIP iter 500, x_loss:0.00441, y_loss:0.00127, PSNR:23.57\n",
      "PnP-DIP, Iteration 1, loss = 0.00127, PSNR = 23.57dB, time = 98.05737638473511\n",
      "DIP iter 100, x_loss:0.00431, y_loss:0.01620, PSNR:23.41\n",
      "DIP iter 200, x_loss:0.00286, y_loss:0.00292, PSNR:25.60\n",
      "DIP iter 300, x_loss:0.00234, y_loss:0.00157, PSNR:26.25\n",
      "DIP iter 400, x_loss:0.00202, y_loss:0.00132, PSNR:26.21\n",
      "DIP iter 500, x_loss:0.00171, y_loss:0.00117, PSNR:25.99\n",
      "PnP-DIP, Iteration 2, loss = 0.00117, PSNR = 25.99dB, time = 193.00840163230896\n",
      "DIP iter 100, x_loss:0.00228, y_loss:0.00505, PSNR:24.55\n",
      "DIP iter 200, x_loss:0.00111, y_loss:0.00160, PSNR:26.39\n",
      "DIP iter 300, x_loss:0.00085, y_loss:0.00111, PSNR:26.80\n",
      "DIP iter 400, x_loss:0.00069, y_loss:0.00096, PSNR:26.82\n",
      "DIP iter 500, x_loss:0.00061, y_loss:0.00070, PSNR:26.79\n",
      "PnP-DIP, Iteration 3, loss = 0.00070, PSNR = 26.79dB, time = 291.3903183937073\n",
      "DIP iter 100, x_loss:0.00420, y_loss:0.00869, PSNR:22.79\n",
      "DIP iter 200, x_loss:0.00124, y_loss:0.00174, PSNR:26.11\n",
      "DIP iter 300, x_loss:0.00084, y_loss:0.00106, PSNR:26.86\n",
      "DIP iter 400, x_loss:0.00071, y_loss:0.00089, PSNR:27.09\n",
      "DIP iter 500, x_loss:0.00062, y_loss:0.00067, PSNR:27.18\n",
      "PnP-DIP, Iteration 4, loss = 0.00067, PSNR = 27.18dB, time = 386.6324384212494\n",
      "DIP iter 100, x_loss:0.00772, y_loss:0.06074, PSNR:20.65\n",
      "DIP iter 200, x_loss:0.00232, y_loss:0.00743, PSNR:24.82\n",
      "DIP iter 300, x_loss:0.00142, y_loss:0.00207, PSNR:26.13\n",
      "DIP iter 400, x_loss:0.00114, y_loss:0.00184, PSNR:26.66\n"
     ]
    },
    {
     "ename": "KeyboardInterrupt",
     "evalue": "",
     "output_type": "error",
     "traceback": [
      "\u001b[0;31m---------------------------------------------------------------------------\u001b[0m",
      "\u001b[0;31mKeyboardInterrupt\u001b[0m                         Traceback (most recent call last)",
      "\u001b[0;32m/tmp/ipykernel_64501/2643357745.py\u001b[0m in \u001b[0;36m<module>\u001b[0;34m\u001b[0m\n\u001b[1;32m     24\u001b[0m \u001b[0mshift_step\u001b[0m \u001b[0;34m=\u001b[0m \u001b[0;36m2\u001b[0m\u001b[0;34m\u001b[0m\u001b[0;34m\u001b[0m\u001b[0m\n\u001b[1;32m     25\u001b[0m \u001b[0mrho\u001b[0m \u001b[0;34m=\u001b[0m \u001b[0;36m0.001\u001b[0m\u001b[0;34m\u001b[0m\u001b[0;34m\u001b[0m\u001b[0m\n\u001b[0;32m---> 26\u001b[0;31m x_rec = admm_dip(y, Phi, Phi_sum, eta=eta, mu=mu, rho=rho,\n\u001b[0m\u001b[1;32m     27\u001b[0m                      \u001b[0mdenoiser\u001b[0m\u001b[0;34m=\u001b[0m\u001b[0mdenoiser\u001b[0m\u001b[0;34m,\u001b[0m \u001b[0miter_num\u001b[0m\u001b[0;34m=\u001b[0m\u001b[0miter_num\u001b[0m\u001b[0;34m,\u001b[0m\u001b[0;34m\u001b[0m\u001b[0;34m\u001b[0m\u001b[0m\n\u001b[1;32m     28\u001b[0m                      \u001b[0mtv_weight\u001b[0m\u001b[0;34m=\u001b[0m\u001b[0mtv_weight\u001b[0m\u001b[0;34m,\u001b[0m \u001b[0mtv_iter_num\u001b[0m\u001b[0;34m=\u001b[0m\u001b[0mtv_iter_num\u001b[0m\u001b[0;34m,\u001b[0m\u001b[0;34m\u001b[0m\u001b[0;34m\u001b[0m\u001b[0m\n",
      "\u001b[0;32m~/Ziyi/ICCV/PnP_DIP/PnP_DIP.py\u001b[0m in \u001b[0;36madmm_dip\u001b[0;34m(y, Phi, Phi_sum, eta, mu, rho, denoiser, iter_num, tv_weight, tv_iter_num, multichannel, shift_step, dip_iter, index, X_ori, save_path)\u001b[0m\n\u001b[1;32m     43\u001b[0m         \u001b[0mref_truth\u001b[0m \u001b[0;34m=\u001b[0m \u001b[0mtorch\u001b[0m\u001b[0;34m.\u001b[0m\u001b[0munsqueeze\u001b[0m\u001b[0;34m(\u001b[0m\u001b[0mref_truth\u001b[0m\u001b[0;34m,\u001b[0m \u001b[0;36m0\u001b[0m\u001b[0;34m)\u001b[0m\u001b[0;34m.\u001b[0m\u001b[0mcuda\u001b[0m\u001b[0;34m(\u001b[0m\u001b[0;34m)\u001b[0m\u001b[0;34m.\u001b[0m\u001b[0mfloat\u001b[0m\u001b[0;34m(\u001b[0m\u001b[0;34m)\u001b[0m\u001b[0;34m\u001b[0m\u001b[0;34m\u001b[0m\u001b[0m\n\u001b[1;32m     44\u001b[0m         \u001b[0mmodel\u001b[0m\u001b[0;34m,\u001b[0m \u001b[0moptimizer\u001b[0m\u001b[0;34m,\u001b[0m \u001b[0mloss_fn\u001b[0m \u001b[0;34m=\u001b[0m \u001b[0mmodel_load\u001b[0m\u001b[0;34m(\u001b[0m\u001b[0;34m)\u001b[0m\u001b[0;34m\u001b[0m\u001b[0;34m\u001b[0m\u001b[0m\n\u001b[0;32m---> 45\u001b[0;31m         \u001b[0mout\u001b[0m\u001b[0;34m,\u001b[0m \u001b[0mloss_y_iter\u001b[0m \u001b[0;34m=\u001b[0m \u001b[0mDIP_denoiser\u001b[0m\u001b[0;34m(\u001b[0m\u001b[0mtruth_tensor\u001b[0m\u001b[0;34m,\u001b[0m \u001b[0mnet_input\u001b[0m\u001b[0;34m,\u001b[0m \u001b[0mref_truth\u001b[0m\u001b[0;34m,\u001b[0m \u001b[0mPhi_tensor\u001b[0m\u001b[0;34m,\u001b[0m \u001b[0my_tensor\u001b[0m\u001b[0;34m,\u001b[0m \u001b[0mmodel\u001b[0m\u001b[0;34m,\u001b[0m \u001b[0moptimizer\u001b[0m\u001b[0;34m,\u001b[0m \u001b[0mloss_fn\u001b[0m\u001b[0;34m,\u001b[0m \u001b[0mdip_iter\u001b[0m\u001b[0;34m[\u001b[0m\u001b[0mit\u001b[0m\u001b[0;34m]\u001b[0m\u001b[0;34m,\u001b[0m \u001b[0mmu\u001b[0m\u001b[0;34m,\u001b[0m \u001b[0mrho\u001b[0m\u001b[0;34m)\u001b[0m\u001b[0;34m\u001b[0m\u001b[0;34m\u001b[0m\u001b[0m\n\u001b[0m\u001b[1;32m     46\u001b[0m         \u001b[0mT\u001b[0m \u001b[0;34m=\u001b[0m \u001b[0mnp\u001b[0m\u001b[0;34m.\u001b[0m\u001b[0mtranspose\u001b[0m\u001b[0;34m(\u001b[0m\u001b[0mnp\u001b[0m\u001b[0;34m.\u001b[0m\u001b[0msqueeze\u001b[0m\u001b[0;34m(\u001b[0m\u001b[0mout\u001b[0m\u001b[0;34m)\u001b[0m\u001b[0;34m,\u001b[0m \u001b[0;34m(\u001b[0m\u001b[0;36m1\u001b[0m\u001b[0;34m,\u001b[0m \u001b[0;36m2\u001b[0m\u001b[0;34m,\u001b[0m \u001b[0;36m0\u001b[0m\u001b[0;34m)\u001b[0m\u001b[0;34m)\u001b[0m\u001b[0;34m\u001b[0m\u001b[0;34m\u001b[0m\u001b[0m\n\u001b[1;32m     47\u001b[0m         \u001b[0mx_rec\u001b[0m \u001b[0;34m=\u001b[0m \u001b[0mT\u001b[0m\u001b[0;34m\u001b[0m\u001b[0;34m\u001b[0m\u001b[0m\n",
      "\u001b[0;32m~/Ziyi/ICCV/PnP_DIP/DIP_denoising.py\u001b[0m in \u001b[0;36mDIP_denoiser\u001b[0;34m(truth_tensor, net_input, ref_truth, Phi_tensor, y_tensor, model, optimizer, loss_fn, iter_num, mu, rho)\u001b[0m\n\u001b[1;32m     32\u001b[0m         \u001b[0moptimizer\u001b[0m\u001b[0;34m.\u001b[0m\u001b[0mzero_grad\u001b[0m\u001b[0;34m(\u001b[0m\u001b[0;34m)\u001b[0m\u001b[0;34m\u001b[0m\u001b[0;34m\u001b[0m\u001b[0m\n\u001b[1;32m     33\u001b[0m         \u001b[0mx_loss\u001b[0m \u001b[0;34m=\u001b[0m \u001b[0mloss_fn\u001b[0m\u001b[0;34m(\u001b[0m\u001b[0mmodel_out\u001b[0m\u001b[0;34m,\u001b[0m \u001b[0mref_truth\u001b[0m\u001b[0;34m)\u001b[0m\u001b[0;34m\u001b[0m\u001b[0;34m\u001b[0m\u001b[0m\n\u001b[0;32m---> 34\u001b[0;31m         \u001b[0moutshift\u001b[0m \u001b[0;34m=\u001b[0m \u001b[0mshift_torch\u001b[0m\u001b[0;34m(\u001b[0m\u001b[0mmodel_out\u001b[0m\u001b[0;34m,\u001b[0m \u001b[0;36m2\u001b[0m\u001b[0;34m)\u001b[0m\u001b[0;34m\u001b[0m\u001b[0;34m\u001b[0m\u001b[0m\n\u001b[0m\u001b[1;32m     35\u001b[0m         \u001b[0my_hat\u001b[0m \u001b[0;34m=\u001b[0m \u001b[0mA_torch\u001b[0m\u001b[0;34m(\u001b[0m\u001b[0moutshift\u001b[0m\u001b[0;34m,\u001b[0m \u001b[0mPhi_tensor\u001b[0m\u001b[0;34m)\u001b[0m\u001b[0;34m\u001b[0m\u001b[0;34m\u001b[0m\u001b[0m\n\u001b[1;32m     36\u001b[0m         \u001b[0my_loss\u001b[0m \u001b[0;34m=\u001b[0m \u001b[0mloss_fn\u001b[0m\u001b[0;34m(\u001b[0m\u001b[0my_hat\u001b[0m\u001b[0;34m,\u001b[0m \u001b[0my_tensor\u001b[0m\u001b[0;34m)\u001b[0m \u001b[0;34m*\u001b[0m\u001b[0mrho\u001b[0m\u001b[0;34m/\u001b[0m\u001b[0mmu\u001b[0m\u001b[0;34m\u001b[0m\u001b[0;34m\u001b[0m\u001b[0m\n",
      "\u001b[0;32m~/Ziyi/ICCV/PnP_DIP/utils.py\u001b[0m in \u001b[0;36mshift_torch\u001b[0;34m(inputs, step)\u001b[0m\n\u001b[1;32m     63\u001b[0m     \u001b[0moutput\u001b[0m \u001b[0;34m=\u001b[0m \u001b[0mtorch\u001b[0m\u001b[0;34m.\u001b[0m\u001b[0mzeros\u001b[0m\u001b[0;34m(\u001b[0m\u001b[0mbs\u001b[0m\u001b[0;34m,\u001b[0m \u001b[0mnC\u001b[0m\u001b[0;34m,\u001b[0m \u001b[0mrow\u001b[0m\u001b[0;34m,\u001b[0m \u001b[0mcol\u001b[0m\u001b[0;34m+\u001b[0m\u001b[0;34m(\u001b[0m\u001b[0mnC\u001b[0m\u001b[0;34m-\u001b[0m\u001b[0;36m1\u001b[0m\u001b[0;34m)\u001b[0m\u001b[0;34m*\u001b[0m\u001b[0mstep\u001b[0m\u001b[0;34m)\u001b[0m\u001b[0;34m\u001b[0m\u001b[0;34m\u001b[0m\u001b[0m\n\u001b[1;32m     64\u001b[0m     \u001b[0;32mfor\u001b[0m \u001b[0mi\u001b[0m \u001b[0;32min\u001b[0m \u001b[0mrange\u001b[0m\u001b[0;34m(\u001b[0m\u001b[0mnC\u001b[0m\u001b[0;34m)\u001b[0m\u001b[0;34m:\u001b[0m\u001b[0;34m\u001b[0m\u001b[0;34m\u001b[0m\u001b[0m\n\u001b[0;32m---> 65\u001b[0;31m         \u001b[0moutput\u001b[0m\u001b[0;34m[\u001b[0m\u001b[0;34m:\u001b[0m\u001b[0;34m,\u001b[0m \u001b[0mi\u001b[0m\u001b[0;34m,\u001b[0m \u001b[0;34m:\u001b[0m\u001b[0;34m,\u001b[0m \u001b[0mi\u001b[0m\u001b[0;34m*\u001b[0m\u001b[0mstep\u001b[0m\u001b[0;34m:\u001b[0m\u001b[0mi\u001b[0m\u001b[0;34m*\u001b[0m\u001b[0mstep\u001b[0m\u001b[0;34m+\u001b[0m\u001b[0mcol\u001b[0m\u001b[0;34m]\u001b[0m \u001b[0;34m=\u001b[0m \u001b[0minputs\u001b[0m\u001b[0;34m[\u001b[0m\u001b[0;34m:\u001b[0m\u001b[0;34m,\u001b[0m \u001b[0mi\u001b[0m\u001b[0;34m,\u001b[0m\u001b[0;34m:\u001b[0m\u001b[0;34m,\u001b[0m\u001b[0;34m:\u001b[0m\u001b[0;34m]\u001b[0m\u001b[0;34m\u001b[0m\u001b[0;34m\u001b[0m\u001b[0m\n\u001b[0m\u001b[1;32m     66\u001b[0m     \u001b[0;32mreturn\u001b[0m \u001b[0moutput\u001b[0m\u001b[0;34m.\u001b[0m\u001b[0mcuda\u001b[0m\u001b[0;34m(\u001b[0m\u001b[0;34m)\u001b[0m\u001b[0;34m\u001b[0m\u001b[0;34m\u001b[0m\u001b[0m\n\u001b[1;32m     67\u001b[0m \u001b[0;34m\u001b[0m\u001b[0m\n",
      "\u001b[0;31mKeyboardInterrupt\u001b[0m: "
     ]
    }
   ],
   "source": [
    "sample = '01'\n",
    "maskfile = '../Data/mask/mask_3d_shift.mat'\n",
    "save_path = './Result/result'+ sample + '/'\n",
    "if not os.path.exists(save_path):\n",
    "    os.makedirs(save_path)\n",
    "r, c, nC = 256, 256, 28\n",
    "Phi = sio.loadmat(maskfile)['mask_3d_shift']\n",
    "Phi_sum = np.sum(Phi**2,2)\n",
    "Phi_sum[Phi_sum==0]=1\n",
    "index = int(sample)\n",
    "datapath = '../Data/kaist_data/scene'+ sample + '.mat'\n",
    "X_ori = sio.loadmat(datapath)['img']\n",
    "X_ori = X_ori/X_ori.max()\n",
    "X_ori_shift = shift(X_ori, step=2)\n",
    "y = A(X_ori_shift,Phi)\n",
    "tvdip_num =  60\n",
    "mu = 0.01\n",
    "eta = 0\n",
    "denoiser = 'DIP'\n",
    "iter_num = tvdip_num\n",
    "tv_weight = 0.1\n",
    "tv_iter_num = 5\n",
    "dip_iter = [500]*10 + [700]*20 +[1200]*30\n",
    "shift_step = 2\n",
    "rho = 0.001\n",
    "x_rec = admm_dip(y, Phi, Phi_sum, eta=eta, mu=mu, rho=rho,\n",
    "                     denoiser=denoiser, iter_num=iter_num, \n",
    "                     tv_weight=tv_weight, tv_iter_num=tv_iter_num,\n",
    "                     multichannel=True, shift_step=shift_step, \n",
    "                     dip_iter=dip_iter, index = index, X_ori=X_ori, save_path = save_path)"
   ]
  },
  {
   "cell_type": "code",
   "execution_count": null,
   "metadata": {},
   "outputs": [],
   "source": []
  }
 ],
 "metadata": {
  "kernelspec": {
   "display_name": "Python 3 (ipykernel)",
   "language": "python",
   "name": "python3"
  },
  "language_info": {
   "codemirror_mode": {
    "name": "ipython",
    "version": 3
   },
   "file_extension": ".py",
   "mimetype": "text/x-python",
   "name": "python",
   "nbconvert_exporter": "python",
   "pygments_lexer": "ipython3",
   "version": "3.9.4"
  }
 },
 "nbformat": 4,
 "nbformat_minor": 2
}
